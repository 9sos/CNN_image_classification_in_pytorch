{
 "cells": [
  {
   "cell_type": "code",
   "execution_count": 13,
   "id": "07fdac9d",
   "metadata": {},
   "outputs": [],
   "source": [
    "import numpy as np\n",
    "from PIL import Image\n",
    "\n",
    "import torch\n",
    "import torch.nn as nn\n",
    "import torch.nn.functional as F\n",
    "import torch.optim as optim\n",
    "\n",
    "import torchvision\n",
    "import torchvision.transforms as transforms"
   ]
  },
  {
   "cell_type": "code",
   "execution_count": 14,
   "id": "72436e1b",
   "metadata": {},
   "outputs": [],
   "source": [
    "transform = transforms.Compose([\n",
    "    transforms.ToTensor(),\n",
    "    transforms.Normalize((0.5, 0.5, 0.5), (0.5, 0.5, 0.5))\n",
    "])"
   ]
  },
  {
   "cell_type": "code",
   "execution_count": 15,
   "id": "769a50dc",
   "metadata": {},
   "outputs": [
    {
     "name": "stdout",
     "output_type": "stream",
     "text": [
      "Files already downloaded and verified\n",
      "Files already downloaded and verified\n"
     ]
    }
   ],
   "source": [
    "train_data = torchvision.datasets.CIFAR10(root='./data', train=True, transform= transform, download= True)\n",
    "test_data = torchvision.datasets.CIFAR10(root='./data', train=False, transform= transform, download= True)\n",
    "\n",
    "train_loader = torch.utils.data.DataLoader(train_data, batch_size=32, shuffle=True, num_workers=True)\n",
    "test_loader = torch.utils.data.DataLoader(test_data, batch_size=32, shuffle=True, num_workers=True)"
   ]
  },
  {
   "cell_type": "code",
   "execution_count": 16,
   "id": "aebd4e3b",
   "metadata": {},
   "outputs": [],
   "source": [
    "image, label = train_data[0]"
   ]
  },
  {
   "cell_type": "code",
   "execution_count": 17,
   "id": "db6f18a5",
   "metadata": {},
   "outputs": [
    {
     "data": {
      "text/plain": [
       "torch.Size([3, 32, 32])"
      ]
     },
     "execution_count": 17,
     "metadata": {},
     "output_type": "execute_result"
    }
   ],
   "source": [
    "image.size()"
   ]
  },
  {
   "cell_type": "code",
   "execution_count": 18,
   "id": "18e222ea",
   "metadata": {},
   "outputs": [],
   "source": [
    "class_names = ['plane', 'car', 'bird', 'cat', 'deer', 'dog', 'frog', 'horse', 'ship', 'truck']"
   ]
  },
  {
   "cell_type": "code",
   "execution_count": 19,
   "id": "dcf7e1b1",
   "metadata": {},
   "outputs": [],
   "source": [
    "class NeuralNet(nn.Module):\n",
    "    \n",
    "    def __init__(self):\n",
    "        super().__init__()\n",
    "        \n",
    "        self.conv1 = nn.Conv2d(3, 12, 5) # 32 -5/1 + 1... (12, 28, 28)\n",
    "        self.pool = nn.MaxPool2d(2, 2) # (12, 14, 14)\n",
    "        self.conv2 = nn.Conv2d(12, 24, 5) #(24, 10, 10) -> (24, 5, 5)\n",
    "        self.fc1 = nn.Linear(24*5*5, 120)\n",
    "        self.fc2 = nn.Linear(120, 84)\n",
    "        self.fc3 = nn.Linear(84, 10)\n",
    "        \n",
    "    def forward(self, x):\n",
    "        x = self.pool(F.relu(self.conv1(x)))\n",
    "        x = self.pool(F.relu(self.conv2(x)))\n",
    "        x = torch.flatten(x, 1)\n",
    "        x = F.relu(self.fc1(x))\n",
    "        x = F.relu(self.fc2(x))\n",
    "        x = self.fc3(x)\n",
    "        return x"
   ]
  },
  {
   "cell_type": "code",
   "execution_count": 20,
   "id": "cb8a0f54",
   "metadata": {},
   "outputs": [],
   "source": [
    "net = NeuralNet()\n",
    "loss_function = nn.CrossEntropyLoss()\n",
    "optimizer = optim.SGD(net.parameters(), lr=0.001, momentum=0.9)"
   ]
  },
  {
   "cell_type": "code",
   "execution_count": 21,
   "id": "16f858d5",
   "metadata": {},
   "outputs": [
    {
     "name": "stdout",
     "output_type": "stream",
     "text": [
      "Training epoch 0....\n",
      "Loss:  2.1388\n",
      "Training epoch 1....\n",
      "Loss:  1.6906\n",
      "Training epoch 2....\n",
      "Loss:  1.5083\n",
      "Training epoch 3....\n",
      "Loss:  1.3920\n",
      "Training epoch 4....\n",
      "Loss:  1.2965\n",
      "Training epoch 5....\n",
      "Loss:  1.2173\n",
      "Training epoch 6....\n",
      "Loss:  1.1538\n",
      "Training epoch 7....\n",
      "Loss:  1.0984\n",
      "Training epoch 8....\n",
      "Loss:  1.0487\n",
      "Training epoch 9....\n",
      "Loss:  1.0034\n",
      "Training epoch 10....\n",
      "Loss:  0.9597\n",
      "Training epoch 11....\n",
      "Loss:  0.9188\n",
      "Training epoch 12....\n",
      "Loss:  0.8806\n",
      "Training epoch 13....\n",
      "Loss:  0.8469\n",
      "Training epoch 14....\n",
      "Loss:  0.8124\n",
      "Training epoch 15....\n",
      "Loss:  0.7827\n",
      "Training epoch 16....\n",
      "Loss:  0.7517\n",
      "Training epoch 17....\n",
      "Loss:  0.7265\n",
      "Training epoch 18....\n",
      "Loss:  0.7002\n",
      "Training epoch 19....\n",
      "Loss:  0.6761\n",
      "Training epoch 20....\n",
      "Loss:  0.6508\n",
      "Training epoch 21....\n",
      "Loss:  0.6287\n",
      "Training epoch 22....\n",
      "Loss:  0.6066\n",
      "Training epoch 23....\n",
      "Loss:  0.5812\n",
      "Training epoch 24....\n",
      "Loss:  0.5645\n",
      "Training epoch 25....\n",
      "Loss:  0.5389\n",
      "Training epoch 26....\n",
      "Loss:  0.5231\n",
      "Training epoch 27....\n",
      "Loss:  0.4963\n",
      "Training epoch 28....\n",
      "Loss:  0.4773\n",
      "Training epoch 29....\n",
      "Loss:  0.4604\n"
     ]
    }
   ],
   "source": [
    "for epoch in range(30):\n",
    "    print(f'Training epoch {epoch}....' )\n",
    "    \n",
    "    running_loss = 0.0\n",
    "    \n",
    "    for i, data in enumerate(train_loader):\n",
    "        inputs, labels = data\n",
    "        \n",
    "        optimizer.zero_grad()\n",
    "        \n",
    "        outputs =net(inputs)\n",
    "        \n",
    "        loss = loss_function(outputs, labels)\n",
    "        loss.backward()\n",
    "        optimizer.step()\n",
    "        \n",
    "        running_loss += loss.item()\n",
    "        \n",
    "    print(f'Loss:  {running_loss / len(train_loader):.4f}')"
   ]
  },
  {
   "cell_type": "code",
   "execution_count": 22,
   "id": "5c555fdb",
   "metadata": {},
   "outputs": [],
   "source": [
    "torch.save(net.state_dict(), 'trained_net.pth')"
   ]
  },
  {
   "cell_type": "code",
   "execution_count": 23,
   "id": "18d9c8ad",
   "metadata": {},
   "outputs": [
    {
     "data": {
      "text/plain": [
       "<All keys matched successfully>"
      ]
     },
     "execution_count": 23,
     "metadata": {},
     "output_type": "execute_result"
    }
   ],
   "source": [
    "net = NeuralNet()\n",
    "net.load_state_dict(torch.load('trained_net.pth'))"
   ]
  },
  {
   "cell_type": "code",
   "execution_count": 24,
   "id": "c5b1c6f4",
   "metadata": {},
   "outputs": [
    {
     "name": "stdout",
     "output_type": "stream",
     "text": [
      "Accuracy: 68.27%\n"
     ]
    }
   ],
   "source": [
    "correct = 0\n",
    "total = 0\n",
    "\n",
    "net.eval()\n",
    "with torch.no_grad():\n",
    "    for data in test_loader:\n",
    "        images, labels = data\n",
    "        outputs = net(images)\n",
    "        _, predicted = torch.max(outputs, 1)\n",
    "        total +=labels.size(0)\n",
    "        correct += (predicted == labels).sum().item()\n",
    "        \n",
    "accuracy = 100*correct/total\n",
    "\n",
    "print(f'Accuracy: {accuracy}%')"
   ]
  },
  {
   "cell_type": "code",
   "execution_count": 28,
   "id": "b3b8a331",
   "metadata": {},
   "outputs": [
    {
     "name": "stdout",
     "output_type": "stream",
     "text": [
      "predicted: plane\n",
      "predicted: deer\n"
     ]
    }
   ],
   "source": [
    "new_transform = transforms.Compose([\n",
    "    transforms.Resize((32, 32)),\n",
    "    transforms.ToTensor(),\n",
    "    transforms.Normalize((0.5, 0.5, 0.5), (0.5, 0.5, 0.5))\n",
    "])\n",
    "\n",
    "def load_image(image_path):\n",
    "    image = Image.open(image_path)\n",
    "    image = new_transform(image)\n",
    "    image =image.unsqueeze(0)\n",
    "    return image\n",
    "\n",
    "image_paths = ['example1.jpg', 'example2.jpg']\n",
    "images = [load_image(img) for img in image_paths]\n",
    "\n",
    "net.eval()\n",
    "with torch.no_grad():\n",
    "    for image in images:\n",
    "        output = net(image)\n",
    "        _, predicted = torch.max(output, 1)\n",
    "        print(f'predicted: {class_names[predicted.item()]}')"
   ]
  },
  {
   "cell_type": "code",
   "execution_count": null,
   "id": "74c76f7c",
   "metadata": {},
   "outputs": [],
   "source": []
  },
  {
   "cell_type": "code",
   "execution_count": null,
   "id": "955a27dc",
   "metadata": {},
   "outputs": [],
   "source": []
  }
 ],
 "metadata": {
  "kernelspec": {
   "display_name": "Python 3 (ipykernel)",
   "language": "python",
   "name": "python3"
  },
  "language_info": {
   "codemirror_mode": {
    "name": "ipython",
    "version": 3
   },
   "file_extension": ".py",
   "mimetype": "text/x-python",
   "name": "python",
   "nbconvert_exporter": "python",
   "pygments_lexer": "ipython3",
   "version": "3.9.13"
  }
 },
 "nbformat": 4,
 "nbformat_minor": 5
}
